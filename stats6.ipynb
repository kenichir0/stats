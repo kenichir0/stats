{
 "cells": [
  {
   "cell_type": "code",
   "execution_count": 74,
   "id": "46656741",
   "metadata": {},
   "outputs": [],
   "source": [
    "import numpy as np\n",
    "import matplotlib.pyplot as plt\n",
    "import seaborn as sns\n",
    "from scipy import stats\n",
    "from sklearn.preprocessing import StandardScaler\n",
    "df=sns.load_dataset('tips')\n",
    "df['tip_rate'] = df['tip'] / df['total_bill'] "
   ]
  },
  {
   "cell_type": "code",
   "execution_count": 32,
   "id": "7b149730",
   "metadata": {},
   "outputs": [
    {
     "data": {
      "text/plain": [
       "3.8507009658308364"
      ]
     },
     "execution_count": 32,
     "metadata": {},
     "output_type": "execute_result"
    }
   ],
   "source": [
    "#正規分布  scale = 標準偏差　ばらつき　  loc = 平均\n",
    "x = np.linspace(0, 10, 1000)\n",
    "\n",
    "y = stats.norm(loc=4, scale=3).rvs()\n",
    "\n",
    "y\n"
   ]
  },
  {
   "cell_type": "code",
   "execution_count": 43,
   "id": "97448eaf",
   "metadata": {},
   "outputs": [
    {
     "name": "stdout",
     "output_type": "stream",
     "text": [
      "NA\n",
      "NA\n",
      "68%　- 0.696\n",
      "95%　- 0.956\n",
      "99.7%　- 0.998\n"
     ]
    }
   ],
   "source": [
    "#  get the value one by one using loop\n",
    "loc = 4\n",
    "scale = 3\n",
    "group1 = []\n",
    "group2 = []\n",
    "group3 = []\n",
    "\n",
    "for i in range(1000):\n",
    "    \n",
    "    # if value is ave plus/minus stad, count 1\n",
    "    x = stats.norm(loc=4, scale=3).rvs() # rvs randomで数字をとる\n",
    "    if loc - scale < x <loc +scale:\n",
    "        group1.append(x)\n",
    "    \n",
    "    elif loc - 2*scale < x <loc + 2*scale:\n",
    "        group2.append(x)\n",
    "    \n",
    "    elif loc - 3*scale < x <loc + 3*scale:\n",
    "        group3.append(x)\n",
    "\n",
    "    else:\n",
    "        print(\"NA\")\n",
    "\n",
    "    \n",
    "# get percentage of each condition count / 1000\n",
    "print(\"68%　- {}\" .format(len(group1)/ 1000) )\n",
    "print(\"95%　- {}\" .format(len(group2 + group1)/ 1000) )\n",
    "print(\"99.7%　- {}\" .format(len(group3 + group2 + group1)/ 1000) )\n",
    "\n"
   ]
  },
  {
   "cell_type": "code",
   "execution_count": 27,
   "id": "af395e77",
   "metadata": {},
   "outputs": [
    {
     "data": {
      "text/plain": [
       "array([0.05467002, 0.05491348, 0.05515741, 0.0554018 , 0.05564666,\n",
       "       0.05589198, 0.05613775, 0.05638398, 0.05663066, 0.05687778,\n",
       "       0.05712534, 0.05737335, 0.05762178, 0.05787065, 0.05811995,\n",
       "       0.05836967, 0.05861982, 0.05887037, 0.05912135, 0.05937273,\n",
       "       0.05962451, 0.0598767 , 0.06012928, 0.06038226, 0.06063563,\n",
       "       0.06088938, 0.06114351, 0.06139802, 0.0616529 , 0.06190815,\n",
       "       0.06216377, 0.06241975, 0.06267608, 0.06293276, 0.0631898 ,\n",
       "       0.06344717, 0.06370489, 0.06396294, 0.06422132, 0.06448002,\n",
       "       0.06473905, 0.0649984 , 0.06525805, 0.06551802, 0.06577829,\n",
       "       0.06603885, 0.06629971, 0.06656086, 0.0668223 , 0.06708401,\n",
       "       0.067346  , 0.06760826, 0.06787079, 0.06813357, 0.06839662,\n",
       "       0.06865991, 0.06892345, 0.06918723, 0.06945125, 0.0697155 ,\n",
       "       0.06997997, 0.07024467, 0.07050958, 0.07077471, 0.07104004,\n",
       "       0.07130557, 0.07157129, 0.07183721, 0.07210331, 0.07236959,\n",
       "       0.07263605, 0.07290268, 0.07316947, 0.07343641, 0.07370352,\n",
       "       0.07397077, 0.07423816, 0.07450569, 0.07477335, 0.07504114,\n",
       "       0.07530905, 0.07557707, 0.0758452 , 0.07611344, 0.07638177,\n",
       "       0.0766502 , 0.07691871, 0.07718731, 0.07745598, 0.07772472,\n",
       "       0.07799353, 0.07826239, 0.07853131, 0.07880027, 0.07906927,\n",
       "       0.07933831, 0.07960738, 0.07987647, 0.08014558, 0.0804147 ,\n",
       "       0.08068382, 0.08095294, 0.08122206, 0.08149117, 0.08176025,\n",
       "       0.08202932, 0.08229835, 0.08256734, 0.08283629, 0.08310519,\n",
       "       0.08337404, 0.08364282, 0.08391154, 0.08418018, 0.08444875,\n",
       "       0.08471722, 0.08498561, 0.08525389, 0.08552207, 0.08579014,\n",
       "       0.08605809, 0.08632592, 0.08659361, 0.08686117, 0.08712859,\n",
       "       0.08739585, 0.08766296, 0.08792991, 0.08819668, 0.08846329,\n",
       "       0.08872971, 0.08899594, 0.08926198, 0.08952781, 0.08979344,\n",
       "       0.09005885, 0.09032404, 0.09058901, 0.09085374, 0.09111823,\n",
       "       0.09138247, 0.09164646, 0.09191018, 0.09217364, 0.09243683,\n",
       "       0.09269973, 0.09296235, 0.09322467, 0.0934867 , 0.09374841,\n",
       "       0.09400982, 0.0942709 , 0.09453165, 0.09479207, 0.09505215,\n",
       "       0.09531188, 0.09557126, 0.09583027, 0.09608892, 0.0963472 ,\n",
       "       0.09660509, 0.09686259, 0.0971197 , 0.09737641, 0.09763271,\n",
       "       0.09788859, 0.09814405, 0.09839909, 0.09865368, 0.09890784,\n",
       "       0.09916154, 0.09941479, 0.09966758, 0.0999199 , 0.10017174,\n",
       "       0.1004231 , 0.10067396, 0.10092433, 0.1011742 , 0.10142356,\n",
       "       0.10167239, 0.10192071, 0.10216849, 0.10241574, 0.10266244,\n",
       "       0.10290859, 0.10315418, 0.1033992 , 0.10364366, 0.10388753,\n",
       "       0.10413082, 0.10437352, 0.10461562, 0.10485711, 0.10509799,\n",
       "       0.10533825, 0.10557789, 0.10581689, 0.10605525, 0.10629297,\n",
       "       0.10653003, 0.10676643, 0.10700217, 0.10723723, 0.10747161,\n",
       "       0.1077053 , 0.10793831, 0.10817061, 0.1084022 , 0.10863308,\n",
       "       0.10886324, 0.10909268, 0.10932138, 0.10954933, 0.10977655,\n",
       "       0.11000301, 0.11022871, 0.11045364, 0.1106778 , 0.11090118,\n",
       "       0.11112377, 0.11134557, 0.11156657, 0.11178677, 0.11200615,\n",
       "       0.11222471, 0.11244245, 0.11265936, 0.11287543, 0.11309065,\n",
       "       0.11330502, 0.11351854, 0.11373119, 0.11394297, 0.11415387,\n",
       "       0.11436389, 0.11457303, 0.11478126, 0.1149886 , 0.11519502,\n",
       "       0.11540054, 0.11560513, 0.11580879, 0.11601153, 0.11621332,\n",
       "       0.11641417, 0.11661407, 0.11681301, 0.11701099, 0.11720799,\n",
       "       0.11740403, 0.11759908, 0.11779314, 0.11798621, 0.11817828,\n",
       "       0.11836935, 0.1185594 , 0.11874844, 0.11893645, 0.11912344,\n",
       "       0.11930939, 0.1194943 , 0.11967817, 0.11986098, 0.12004274,\n",
       "       0.12022343, 0.12040306, 0.12058161, 0.12075908, 0.12093547,\n",
       "       0.12111077, 0.12128497, 0.12145806, 0.12163006, 0.12180093,\n",
       "       0.12197069, 0.12213933, 0.12230684, 0.12247322, 0.12263845,\n",
       "       0.12280254, 0.12296549, 0.12312727, 0.1232879 , 0.12344736,\n",
       "       0.12360566, 0.12376278, 0.12391871, 0.12407347, 0.12422703,\n",
       "       0.1243794 , 0.12453057, 0.12468053, 0.12482929, 0.12497683,\n",
       "       0.12512315, 0.12526825, 0.12541213, 0.12555476, 0.12569617,\n",
       "       0.12583633, 0.12597524, 0.1261129 , 0.12624931, 0.12638446,\n",
       "       0.12651834, 0.12665096, 0.12678231, 0.12691237, 0.12704116,\n",
       "       0.12716866, 0.12729487, 0.12741979, 0.12754341, 0.12766573,\n",
       "       0.12778674, 0.12790645, 0.12802484, 0.12814192, 0.12825767,\n",
       "       0.1283721 , 0.1284852 , 0.12859697, 0.1287074 , 0.12881649,\n",
       "       0.12892424, 0.12903065, 0.1291357 , 0.1292394 , 0.12934175,\n",
       "       0.12944273, 0.12954235, 0.12964061, 0.12973749, 0.129833  ,\n",
       "       0.12992714, 0.13001989, 0.13011126, 0.13020125, 0.13028985,\n",
       "       0.13037706, 0.13046287, 0.13054729, 0.13063031, 0.13071192,\n",
       "       0.13079213, 0.13087093, 0.13094833, 0.1310243 , 0.13109887,\n",
       "       0.13117201, 0.13124374, 0.13131404, 0.13138291, 0.13145036,\n",
       "       0.13151638, 0.13158097, 0.13164413, 0.13170584, 0.13176612,\n",
       "       0.13182496, 0.13188236, 0.13193832, 0.13199282, 0.13204588,\n",
       "       0.13209749, 0.13214765, 0.13219636, 0.13224361, 0.13228941,\n",
       "       0.13233375, 0.13237663, 0.13241805, 0.13245801, 0.13249651,\n",
       "       0.13253354, 0.1325691 , 0.1326032 , 0.13263583, 0.13266699,\n",
       "       0.13269669, 0.13272491, 0.13275165, 0.13277693, 0.13280073,\n",
       "       0.13282306, 0.13284391, 0.13286329, 0.13288119, 0.13289761,\n",
       "       0.13291256, 0.13292602, 0.13293801, 0.13294852, 0.13295755,\n",
       "       0.1329651 , 0.13297117, 0.13297576, 0.13297887, 0.13298049,\n",
       "       0.13298064, 0.13297931, 0.1329765 , 0.1329722 , 0.13296643,\n",
       "       0.13295918, 0.13295044, 0.13294023, 0.13292854, 0.13291537,\n",
       "       0.13290072, 0.13288459, 0.13286699, 0.13284791, 0.13282735,\n",
       "       0.13280532, 0.13278181, 0.13275683, 0.13273037, 0.13270245,\n",
       "       0.13267305, 0.13264218, 0.13260984, 0.13257604, 0.13254077,\n",
       "       0.13250403, 0.13246583, 0.13242616, 0.13238503, 0.13234244,\n",
       "       0.1322984 , 0.13225289, 0.13220593, 0.13215751, 0.13210764,\n",
       "       0.13205632, 0.13200355, 0.13194933, 0.13189367, 0.13183656,\n",
       "       0.13177801, 0.13171801, 0.13165658, 0.13159372, 0.13152942,\n",
       "       0.13146368, 0.13139652, 0.13132793, 0.13125791, 0.13118647,\n",
       "       0.13111361, 0.13103933, 0.13096363, 0.13088652, 0.130808  ,\n",
       "       0.13072808, 0.13064674, 0.13056401, 0.13047987, 0.13039433,\n",
       "       0.1303074 , 0.13021908, 0.13012937, 0.13003828, 0.1299458 ,\n",
       "       0.12985194, 0.1297567 , 0.12966009, 0.12956211, 0.12946276,\n",
       "       0.12936205, 0.12925998, 0.12915655, 0.12905177, 0.12894563,\n",
       "       0.12883815, 0.12872933, 0.12861916, 0.12850766, 0.12839482,\n",
       "       0.12828066, 0.12816517, 0.12804836, 0.12793023, 0.12781079,\n",
       "       0.12769004, 0.12756798, 0.12744462, 0.12731996, 0.12719401,\n",
       "       0.12706676, 0.12693823, 0.12680842, 0.12667733, 0.12654497,\n",
       "       0.12641134, 0.12627644, 0.12614029, 0.12600287, 0.12586421,\n",
       "       0.1257243 , 0.12558314, 0.12544075, 0.12529713, 0.12515227,\n",
       "       0.12500619, 0.12485889, 0.12471038, 0.12456066, 0.12440973,\n",
       "       0.1242576 , 0.12410427, 0.12394976, 0.12379406, 0.12363717,\n",
       "       0.12347912, 0.12331989, 0.12315949, 0.12299794, 0.12283522,\n",
       "       0.12267136, 0.12250635, 0.12234021, 0.12217292, 0.12200451,\n",
       "       0.12183498, 0.12166432, 0.12149255, 0.12131967, 0.12114569,\n",
       "       0.12097062, 0.12079445, 0.12061719, 0.12043886, 0.12025945,\n",
       "       0.12007896, 0.11989742, 0.11971482, 0.11953116, 0.11934646,\n",
       "       0.11916071, 0.11897393, 0.11878612, 0.11859729, 0.11840744,\n",
       "       0.11821657, 0.1180247 , 0.11783183, 0.11763797, 0.11744311,\n",
       "       0.11724728, 0.11705046, 0.11685268, 0.11665393, 0.11645423,\n",
       "       0.11625357, 0.11605196, 0.11584942, 0.11564594, 0.11544153,\n",
       "       0.1152362 , 0.11502996, 0.1148228 , 0.11461474, 0.11440579,\n",
       "       0.11419595, 0.11398522, 0.11377361, 0.11356114, 0.11334779,\n",
       "       0.11313359, 0.11291854, 0.11270264, 0.1124859 , 0.11226833,\n",
       "       0.11204993, 0.11183071, 0.11161068, 0.11138983, 0.11116819,\n",
       "       0.11094576, 0.11072254, 0.11049853, 0.11027375, 0.11004821,\n",
       "       0.1098219 , 0.10959484, 0.10936703, 0.10913847, 0.10890919,\n",
       "       0.10867917, 0.10844843, 0.10821698, 0.10798482, 0.10775196,\n",
       "       0.1075184 , 0.10728416, 0.10704923, 0.10681363, 0.10657736,\n",
       "       0.10634043, 0.10610285, 0.10586461, 0.10562574, 0.10538623,\n",
       "       0.10514609, 0.10490534, 0.10466397, 0.10442199, 0.10417941,\n",
       "       0.10393624, 0.10369248, 0.10344814, 0.10320323, 0.10295775,\n",
       "       0.10271171, 0.10246512, 0.10221798, 0.10197031, 0.1017221 ,\n",
       "       0.10147337, 0.10122411, 0.10097435, 0.10072408, 0.10047331,\n",
       "       0.10022205, 0.0999703 , 0.09971808, 0.09946539, 0.09921223,\n",
       "       0.09895862, 0.09870455, 0.09845004, 0.09819509, 0.09793972,\n",
       "       0.09768392, 0.0974277 , 0.09717108, 0.09691405, 0.09665662,\n",
       "       0.0963988 , 0.09614061, 0.09588203, 0.09562309, 0.09536378,\n",
       "       0.09510412, 0.09484411, 0.09458376, 0.09432307, 0.09406206,\n",
       "       0.09380072, 0.09353907, 0.0932771 , 0.09301484, 0.09275228,\n",
       "       0.09248943, 0.0922263 , 0.0919629 , 0.09169922, 0.09143529,\n",
       "       0.09117109, 0.09090665, 0.09064197, 0.09037705, 0.09011191,\n",
       "       0.08984654, 0.08958095, 0.08931516, 0.08904916, 0.08878297,\n",
       "       0.08851659, 0.08825002, 0.08798328, 0.08771636, 0.08744929,\n",
       "       0.08718205, 0.08691466, 0.08664713, 0.08637947, 0.08611166,\n",
       "       0.08584374, 0.08557569, 0.08530754, 0.08503927, 0.08477091,\n",
       "       0.08450245, 0.0842339 , 0.08396527, 0.08369657, 0.0834278 ,\n",
       "       0.08315897, 0.08289007, 0.08262113, 0.08235215, 0.08208312,\n",
       "       0.08181407, 0.08154499, 0.08127588, 0.08100677, 0.08073765,\n",
       "       0.08046852, 0.0801994 , 0.07993029, 0.07966119, 0.07939212,\n",
       "       0.07912308, 0.07885407, 0.07858509, 0.07831617, 0.07804729,\n",
       "       0.07777848, 0.07750972, 0.07724104, 0.07697243, 0.0767039 ,\n",
       "       0.07643545, 0.0761671 , 0.07589884, 0.07563069, 0.07536264,\n",
       "       0.07509471, 0.0748269 , 0.07455921, 0.07429165, 0.07402423,\n",
       "       0.07375696, 0.07348982, 0.07322284, 0.07295602, 0.07268936,\n",
       "       0.07242287, 0.07215655, 0.07189042, 0.07162446, 0.0713587 ,\n",
       "       0.07109313, 0.07082776, 0.07056259, 0.07029764, 0.0700329 ,\n",
       "       0.06976838, 0.06950408, 0.06924002, 0.06897619, 0.0687126 ,\n",
       "       0.06844926, 0.06818616, 0.06792332, 0.06766075, 0.06739843,\n",
       "       0.06713639, 0.06687462, 0.06661313, 0.06635192, 0.066091  ,\n",
       "       0.06583038, 0.06557005, 0.06531002, 0.0650503 , 0.0647909 ,\n",
       "       0.0645318 , 0.06427303, 0.06401459, 0.06375647, 0.06349869,\n",
       "       0.06324125, 0.06298414, 0.06272739, 0.06247098, 0.06221494,\n",
       "       0.06195925, 0.06170392, 0.06144897, 0.06119438, 0.06094017,\n",
       "       0.06068635, 0.0604329 , 0.06017985, 0.05992718, 0.05967492,\n",
       "       0.05942305, 0.05917159, 0.05892054, 0.05866989, 0.05841967,\n",
       "       0.05816986, 0.05792048, 0.05767152, 0.057423  , 0.05717491,\n",
       "       0.05692725, 0.05668004, 0.05643328, 0.05618696, 0.0559411 ,\n",
       "       0.05569569, 0.05545074, 0.05520625, 0.05496223, 0.05471868,\n",
       "       0.0544756 , 0.054233  , 0.05399087, 0.05374923, 0.05350808,\n",
       "       0.05326741, 0.05302724, 0.05278756, 0.05254838, 0.0523097 ,\n",
       "       0.05207152, 0.05183386, 0.0515967 , 0.05136005, 0.05112393,\n",
       "       0.05088832, 0.05065323, 0.05041867, 0.05018463, 0.04995113,\n",
       "       0.04971816, 0.04948572, 0.04925382, 0.04902247, 0.04879165,\n",
       "       0.04856139, 0.04833167, 0.0481025 , 0.04787389, 0.04764583,\n",
       "       0.04741833, 0.04719139, 0.04696502, 0.04673921, 0.04651397,\n",
       "       0.04628929, 0.04606519, 0.04584167, 0.04561872, 0.04539635,\n",
       "       0.04517456, 0.04495336, 0.04473274, 0.04451271, 0.04429326,\n",
       "       0.04407441, 0.04385615, 0.04363849, 0.04342142, 0.04320495,\n",
       "       0.04298908, 0.04277382, 0.04255915, 0.0423451 , 0.04213165,\n",
       "       0.04191881, 0.04170658, 0.04149497, 0.04128396, 0.04107358,\n",
       "       0.04086381, 0.04065466, 0.04044613, 0.04023822, 0.04003094,\n",
       "       0.03982428, 0.03961824, 0.03941283, 0.03920805, 0.0390039 ,\n",
       "       0.03880038, 0.0385975 , 0.03839524, 0.03819363, 0.03799264,\n",
       "       0.0377923 , 0.03759259, 0.03739352, 0.03719509, 0.0369973 ,\n",
       "       0.03680016, 0.03660365, 0.0364078 , 0.03621258, 0.03601801,\n",
       "       0.03582409, 0.03563082, 0.03543819, 0.03524621, 0.03505489,\n",
       "       0.03486421, 0.03467418, 0.03448481, 0.03429609, 0.03410802,\n",
       "       0.0339206 , 0.03373384, 0.03354774, 0.03336228, 0.03317749,\n",
       "       0.03299335, 0.03280987, 0.03262704, 0.03244488, 0.03226337,\n",
       "       0.03208252, 0.03190232, 0.03172279, 0.03154391, 0.0313657 ,\n",
       "       0.03118814, 0.03101125, 0.03083501, 0.03065944, 0.03048452,\n",
       "       0.03031027, 0.03013667, 0.02996374, 0.02979147, 0.02961985,\n",
       "       0.0294489 , 0.02927861, 0.02910898, 0.02894001, 0.0287717 ,\n",
       "       0.02860405, 0.02843707, 0.02827074, 0.02810507, 0.02794006,\n",
       "       0.02777571, 0.02761202, 0.02744899, 0.02728662, 0.02712491,\n",
       "       0.02696385, 0.02680345, 0.02664371, 0.02648463, 0.0263262 ,\n",
       "       0.02616843, 0.02601132, 0.02585486, 0.02569906, 0.02554391,\n",
       "       0.02538942, 0.02523557, 0.02508239, 0.02492985, 0.02477796,\n",
       "       0.02462673, 0.02447615, 0.02432622, 0.02417693, 0.0240283 ,\n",
       "       0.02388031, 0.02373297, 0.02358628, 0.02344023, 0.02329483,\n",
       "       0.02315007, 0.02300595, 0.02286248, 0.02271965, 0.02257746,\n",
       "       0.02243591, 0.022295  , 0.02215473, 0.0220151 , 0.0218761 ,\n",
       "       0.02173774, 0.02160001, 0.02146291, 0.02132645, 0.02119062,\n",
       "       0.02105542, 0.02092085, 0.02078691, 0.0206536 , 0.02052091,\n",
       "       0.02038885, 0.02025742, 0.0201266 , 0.01999641, 0.01986684,\n",
       "       0.01973789, 0.01960956, 0.01948184, 0.01935475, 0.01922826,\n",
       "       0.01910239, 0.01897714, 0.01885249, 0.01872846, 0.01860503,\n",
       "       0.01848221, 0.01836   , 0.01823839, 0.01811739, 0.01799699])"
      ]
     },
     "execution_count": 27,
     "metadata": {},
     "output_type": "execute_result"
    }
   ],
   "source": [
    "y"
   ]
  },
  {
   "cell_type": "code",
   "execution_count": 44,
   "id": "7037d49b",
   "metadata": {},
   "outputs": [],
   "source": [
    "#　標準化"
   ]
  },
  {
   "cell_type": "code",
   "execution_count": 49,
   "id": "449d1803",
   "metadata": {},
   "outputs": [],
   "source": [
    "scaler = StandardScaler()"
   ]
  },
  {
   "cell_type": "code",
   "execution_count": 62,
   "id": "690d5a0e",
   "metadata": {},
   "outputs": [
    {
     "data": {
      "text/plain": [
       "(244,)"
      ]
     },
     "execution_count": 62,
     "metadata": {},
     "output_type": "execute_result"
    }
   ],
   "source": [
    "#scaler.fit_transfrom() # ２次元のデータを処理するので括弧の中は２次元のデータ\n",
    "\n",
    "df['tip_rate'].values.shape\n",
    "df['tip_rate'].values.reshape(-1,1).shape"
   ]
  },
  {
   "cell_type": "code",
   "execution_count": 83,
   "id": "3d97cd9e",
   "metadata": {},
   "outputs": [],
   "source": [
    "scaled = scaler.fit_transform(df['tip_rate'].values.reshape(-1,1))"
   ]
  },
  {
   "cell_type": "code",
   "execution_count": 95,
   "id": "4ee93503",
   "metadata": {},
   "outputs": [],
   "source": [
    "# 二項分布\n",
    "# サイコロを３回投げて特定の数字が出る確率　\n",
    "#print(np.arange(3, 10)) # [3 4 5 6 7 8 9]\n",
    "\n",
    "n = 100\n",
    "x = np.arange(n+1)\n",
    "y = stats.binom(n = n, p = 1/6).pmf(x)"
   ]
  },
  {
   "cell_type": "code",
   "execution_count": 98,
   "id": "560c4dff",
   "metadata": {},
   "outputs": [
    {
     "data": {
      "text/plain": [
       "(0.0, 40.0)"
      ]
     },
     "execution_count": 98,
     "metadata": {},
     "output_type": "execute_result"
    },
    {
     "data": {
      "image/png": "[encoded data removed]",
      "text/plain": [
       "<Figure size 432x288 with 1 Axes>"
      ]
     },
     "metadata": {
      "needs_background": "light"
     },
     "output_type": "display_data"
    }
   ],
   "source": [
    "plt.plot(x,y, 'o')\n",
    "plt.xlim(0,40)\n",
    "# 特定の数字が一回も出ない確率、特定の数字が１回出る確率、特定の数字が２回出る確率、特定の数字が３回出る確率"
   ]
  },
  {
   "cell_type": "code",
   "execution_count": 100,
   "id": "96fb0b4c",
   "metadata": {},
   "outputs": [
    {
     "data": {
      "text/plain": [
       "16.666666666666664"
      ]
     },
     "execution_count": 100,
     "metadata": {},
     "output_type": "execute_result"
    }
   ],
   "source": [
    "#average\n",
    "stats.binom(n,p=1/6).mean()"
   ]
  },
  {
   "cell_type": "code",
   "execution_count": 102,
   "id": "f8f6af99",
   "metadata": {},
   "outputs": [
    {
     "data": {
      "text/plain": [
       "13.888888888888888"
      ]
     },
     "execution_count": 102,
     "metadata": {},
     "output_type": "execute_result"
    }
   ],
   "source": [
    "#分散\n",
    "stats.binom(n, p = 1/6).var()"
   ]
  },
  {
   "cell_type": "code",
   "execution_count": null,
   "id": "127888b9",
   "metadata": {},
   "outputs": [],
   "source": []
  }
 ],
 "metadata": {
  "kernelspec": {
   "display_name": "Python 3 (ipykernel)",
   "language": "python",
   "name": "python3"
  },
  "language_info": {
   "codemirror_mode": {
    "name": "ipython",
    "version": 3
   },
   "file_extension": ".py",
   "mimetype": "text/x-python",
   "name": "python",
   "nbconvert_exporter": "python",
   "pygments_lexer": "ipython3",
   "version": "3.8.12"
  }
 },
 "nbformat": 4,
 "nbformat_minor": 5
}
